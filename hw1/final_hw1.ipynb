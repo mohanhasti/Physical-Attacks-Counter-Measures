{
  "cells": [
    {
      "cell_type": "code",
      "execution_count": 1,
      "metadata": {
        "colab": {
          "base_uri": "https://localhost:8080/"
        },
        "id": "CcC5xzJl2QQK",
        "outputId": "d5f1642a-4614-4a3c-bea5-5bab51194cb6"
      },
      "outputs": [
        {
          "name": "stdout",
          "output_type": "stream",
          "text": [
            "Looking in indexes: https://pypi.org/simple, https://us-python.pkg.dev/colab-wheels/public/simple/\n",
            "Requirement already satisfied: matplotlib in /usr/local/lib/python3.8/dist-packages (3.2.2)\n",
            "Requirement already satisfied: python-dateutil>=2.1 in /usr/local/lib/python3.8/dist-packages (from matplotlib) (2.8.2)\n",
            "Requirement already satisfied: kiwisolver>=1.0.1 in /usr/local/lib/python3.8/dist-packages (from matplotlib) (1.4.4)\n",
            "Requirement already satisfied: pyparsing!=2.0.4,!=2.1.2,!=2.1.6,>=2.0.1 in /usr/local/lib/python3.8/dist-packages (from matplotlib) (3.0.9)\n",
            "Requirement already satisfied: numpy>=1.11 in /usr/local/lib/python3.8/dist-packages (from matplotlib) (1.21.6)\n",
            "Requirement already satisfied: cycler>=0.10 in /usr/local/lib/python3.8/dist-packages (from matplotlib) (0.11.0)\n",
            "Requirement already satisfied: six>=1.5 in /usr/local/lib/python3.8/dist-packages (from python-dateutil>=2.1->matplotlib) (1.15.0)\n",
            "Looking in indexes: https://pypi.org/simple, https://us-python.pkg.dev/colab-wheels/public/simple/\n",
            "Requirement already satisfied: pandas in /usr/local/lib/python3.8/dist-packages (1.3.5)\n",
            "Requirement already satisfied: pytz>=2017.3 in /usr/local/lib/python3.8/dist-packages (from pandas) (2022.7)\n",
            "Requirement already satisfied: numpy>=1.17.3 in /usr/local/lib/python3.8/dist-packages (from pandas) (1.21.6)\n",
            "Requirement already satisfied: python-dateutil>=2.7.3 in /usr/local/lib/python3.8/dist-packages (from pandas) (2.8.2)\n",
            "Requirement already satisfied: six>=1.5 in /usr/local/lib/python3.8/dist-packages (from python-dateutil>=2.7.3->pandas) (1.15.0)\n"
          ]
        }
      ],
      "source": [
        "# !pip install matplotlib\n",
        "# !pip install pandas\n",
        "\n",
        "# hastim@oregonstate.edu\n",
        "# Mohan Krishna Hasti "
      ]
    },
    {
      "cell_type": "code",
      "execution_count": 2,
      "metadata": {
        "id": "3k7wjeSyF3iz"
      },
      "outputs": [],
      "source": [
        "import numpy as np\n",
        "import matplotlib.pyplot as plt\n",
        "import multiprocessing as mp\n",
        "#from numba import jit\n",
        "#from tqdm.notebook import tqdm\n",
        "from  multiprocessing import Pool"
      ]
    },
    {
      "cell_type": "markdown",
      "metadata": {
        "id": "6YNwLxOuF3i0"
      },
      "source": [
        "# High-performance oriented programming habits\n",
        "## The good\n",
        "+ reuse and preallocate variables\n",
        "+ precompute data when possible; access when needed\n",
        "+ vectorize whenever possible (we will practice together)\n",
        "+ think about complementary approaches (sometimes easier to compute)\n",
        "+ check variable data types (even in Python); only start this if result OK\n",
        "## The bad\n",
        "+ nested for-loops\n",
        "+ branching; especially in nested loops\n",
        "+ dynamically changing array sizes\n",
        "## The ugly\n",
        "+ np.vectorize is a for-loop 'wrapper'\n",
        "+ not profiling your code\n",
        "+ asking for a GPU without knowing why\n",
        "## Please note\n",
        "+ me=lazy programmer\n",
        "+ same as you, I'm still learning Python3\n",
        "+ and slow at typing (no jokes please while actively coding in class :-))"
      ]
    },
    {
      "cell_type": "code",
      "execution_count": 8,
      "metadata": {
        "id": "SkFBkvaDF3i2"
      },
      "outputs": [],
      "source": [
        "# not optimized; for your reference\n",
        "#optimised by converting to np.array\n",
        "sbox = np.array([\n",
        "0x63,0x7c,0x77,0x7b,0xf2,0x6b,0x6f,0xc5,0x30,0x01,0x67,0x2b,0xfe,0xd7,0xab,0x76,\n",
        "0xca,0x82,0xc9,0x7d,0xfa,0x59,0x47,0xf0,0xad,0xd4,0xa2,0xaf,0x9c,0xa4,0x72,0xc0,\n",
        "0xb7,0xfd,0x93,0x26,0x36,0x3f,0xf7,0xcc,0x34,0xa5,0xe5,0xf1,0x71,0xd8,0x31,0x15,\n",
        "0x04,0xc7,0x23,0xc3,0x18,0x96,0x05,0x9a,0x07,0x12,0x80,0xe2,0xeb,0x27,0xb2,0x75,\n",
        "0x09,0x83,0x2c,0x1a,0x1b,0x6e,0x5a,0xa0,0x52,0x3b,0xd6,0xb3,0x29,0xe3,0x2f,0x84,\n",
        "0x53,0xd1,0x00,0xed,0x20,0xfc,0xb1,0x5b,0x6a,0xcb,0xbe,0x39,0x4a,0x4c,0x58,0xcf,\n",
        "0xd0,0xef,0xaa,0xfb,0x43,0x4d,0x33,0x85,0x45,0xf9,0x02,0x7f,0x50,0x3c,0x9f,0xa8,\n",
        "0x51,0xa3,0x40,0x8f,0x92,0x9d,0x38,0xf5,0xbc,0xb6,0xda,0x21,0x10,0xff,0xf3,0xd2,\n",
        "0xcd,0x0c,0x13,0xec,0x5f,0x97,0x44,0x17,0xc4,0xa7,0x7e,0x3d,0x64,0x5d,0x19,0x73,\n",
        "0x60,0x81,0x4f,0xdc,0x22,0x2a,0x90,0x88,0x46,0xee,0xb8,0x14,0xde,0x5e,0x0b,0xdb,\n",
        "0xe0,0x32,0x3a,0x0a,0x49,0x06,0x24,0x5c,0xc2,0xd3,0xac,0x62,0x91,0x95,0xe4,0x79,\n",
        "0xe7,0xc8,0x37,0x6d,0x8d,0xd5,0x4e,0xa9,0x6c,0x56,0xf4,0xea,0x65,0x7a,0xae,0x08,\n",
        "0xba,0x78,0x25,0x2e,0x1c,0xa6,0xb4,0xc6,0xe8,0xdd,0x74,0x1f,0x4b,0xbd,0x8b,0x8a,\n",
        "0x70,0x3e,0xb5,0x66,0x48,0x03,0xf6,0x0e,0x61,0x35,0x57,0xb9,0x86,0xc1,0x1d,0x9e,\n",
        "0xe1,0xf8,0x98,0x11,0x69,0xd9,0x8e,0x94,0x9b,0x1e,0x87,0xe9,0xce,0x55,0x28,0xdf,\n",
        "0x8c,0xa1,0x89,0x0d,0xbf,0xe6,0x42,0x68,0x41,0x99,0x2d,0x0f,0xb0,0x54,0xbb,0x16\n",
        "])\n",
        "# type(sbox)\n",
        "k_array=np.array(range(256)) #array with 0-255 values\n",
        "# print(k_array)\n",
        "# print(sbox.index(43))"
      ]
    },
    {
      "cell_type": "code",
      "execution_count": 9,
      "metadata": {
        "id": "M4S2wWLoF3i3"
      },
      "outputs": [],
      "source": [
        "timings = np.loadtxt('timing_noisy.csv', delimiter=',')\n",
        "timings.shape\n",
        "plaintext = timings[:,range(16)]"
      ]
    },
    {
      "cell_type": "code",
      "execution_count": 10,
      "metadata": {
        "colab": {
          "base_uri": "https://localhost:8080/"
        },
        "id": "Nbff4pHZF3i4",
        "outputId": "08b44d43-c289-4c42-ff59-7b10e5816d4e"
      },
      "outputs": [
        {
          "data": {
            "text/plain": [
              "(1000000, 16)"
            ]
          },
          "execution_count": 10,
          "metadata": {},
          "output_type": "execute_result"
        }
      ],
      "source": [
        "np.shape(plaintext)"
      ]
    },
    {
      "cell_type": "code",
      "execution_count": 56,
      "metadata": {
        "id": "ZUTY3ooUEyTi"
      },
      "outputs": [],
      "source": [
        "from time import time\n",
        "# t = time()\n",
        "g1_msb1 = []\n",
        "g0_msb0 = []\n",
        "and_128 = np.empty(256, dtype = int)#array[0-255] filled with all 128\n",
        "and_128.fill(128) \n",
        "for i in range(256):\n",
        "  p_i = np.empty(256, dtype = int) #p_i byte, created 256 size p_i array \n",
        "  p_i.fill(i)\n",
        "  # print(p_i)\n",
        "  p_i = np.bitwise_xor(p_i,k_array)\n",
        "  p_i = np.bitwise_and(sbox[p_i], and_128)\n",
        "  p_i = np.floor_divide(p_i, 128)\n",
        "  g1_msb1.append(p_i)\n",
        "  # print(p_i)\n",
        "  p_i = np.where((p_i==0)|(p_i==1), p_i^1, p_i) #complementing the values 1->0\n",
        "  # print(p_i)\n",
        "  g0_msb0.append(p_i)\n",
        "g0_msb0 = np.array(g0_msb0) #converting g0_msb0 to np.array\n",
        "g1_msb1 = np.array(g1_msb1) #converting g1_msb1 to np.array\n",
        "# print(time() - t)\n",
        "# print(g0_msb0)\n",
        "# print(g1_msb1)"
      ]
    },
    {
      "cell_type": "code",
      "execution_count": 76,
      "metadata": {
        "colab": {
          "base_uri": "https://localhost:8080/"
        },
        "id": "zaPhd_htgx75",
        "outputId": "4e3a55a7-b20b-46c0-f40c-76c44b580874"
      },
      "outputs": [
        {
          "name": "stdout",
          "output_type": "stream",
          "text": [
            "0 41 1.744248628616333\n",
            "1 142 1.533984661102295\n",
            "2 79 1.505387306213379\n",
            "3 30 1.5168354511260986\n",
            "4 183 1.5010223388671875\n",
            "5 104 1.4784953594207764\n",
            "6 193 1.4800307750701904\n",
            "7 19 1.490391492843628\n",
            "8 124 1.471010446548462\n",
            "9 246 1.4732084274291992\n",
            "10 189 1.4927635192871094\n",
            "11 223 1.5359666347503662\n",
            "12 236 1.519658088684082\n",
            "13 119 1.4899511337280273\n",
            "14 47 1.471174955368042\n",
            "15 176 1.4680969715118408\n",
            "Total Time 24.18728494644165\n"
          ]
        }
      ],
      "source": [
        "def crack_key(key_index):\n",
        "  start = time()\n",
        "  group1 = [np.zeros(256), np.zeros(256)] #creating group1 array with 2X256 = group1[0] - timings, group1[1] - \n",
        "  group0 = [np.zeros(256), np.zeros(256)] #creating group0 array with 2X256 = group0[0] - timings, group0[1] -\n",
        " \n",
        "  #3b for i,row in enumerate(timings):\n",
        "  for row in timings:\n",
        "    key, timing = int(row[key_index]), row[-1] \n",
        "    \n",
        "    group0[0] = np.add(group0[0], np.multiply (g0_msb0[key], timing)) #adding all the timings if MSB is 1\n",
        "    group0[1] = np.add(group0[1], g0_msb0[key])  #adding all the key values 1 or 0\n",
        "    group1[0] = np.add(group1[0], np.multiply (g1_msb1[key], timing))  #adding all the timings if MSB is 0\n",
        "    group1[1] = np.add(group1[1], g1_msb1[key]) #adding all the key values 1 or 0\n",
        "    #3b if i == 150000:\n",
        "    #   break \n",
        "\n",
        "  group1_avg = np.divide(group1[0], group1[1]) #divide to find the average of group1 \n",
        "  group0_avg = np.divide(group0[0], group0[1]) #divide to find the average of group0\n",
        "\n",
        "  delta = np.subtract(group1_avg, group0_avg) #finding delta\n",
        "  final_key = np.argmax(delta) #final key \n",
        "  #print index , KEY , time\n",
        "  print(key_index, final_key, time() - start)  \n",
        "\n",
        "  # generate graph\n",
        "  %matplotlib inline\n",
        "  print('Example')\n",
        "  fig, ax = plt.subplots(figsize=(8, 4))\n",
        "  ax.plot(delta, 'black')\n",
        "  ax.set_xlabel('Samples')\n",
        "  ax.set_ylabel('Value')\n",
        "  plt.show()\n",
        "\n",
        "#pooling multithreads \n",
        "with Pool(12) as p:\n",
        "  all_start = time()\n",
        "  p.map(crack_key, range(16)) #pool processes for 16 bytes  \n",
        "  #Total execution time\n",
        "  print(\"Total Time\", time()- all_start)\n",
        "\n",
        "#to run with single thread to get keys\n",
        "# all_start = time()\n",
        "# for i in range(16):\n",
        "#   crack_key(i)\n",
        "# print(\"Total Time\", time()- all_start)"
      ]
    },
    {
      "cell_type": "markdown",
      "metadata": {
        "id": "wt1nXFEQF3i6"
      },
      "source": [
        "# Attack Recipe from Slides\n",
        "+ Note: n = number of samples; corresponds to rows of .csv\n",
        "+ Attacker guesses a value K as key candidate for the key\n",
        "    + Create two groups: group1 and group0\n",
        "    + for i = 1 to n compute Sbox(firstbyte(p_i) XOR k) – this will be our ‘hypothesis’\n",
        "    + If MSB of result is 1, the corresponding timing t_i goes to group1, otherwise to group0\n",
        "    + On average, the timings of group1 should be higher than of group0\n",
        "    + Averaging helps to get this information and reduce noise\n",
        "    + The difference between averages of two groups is assigned guessed key byte k\n",
        "    + This step needs to be repeated for all key candidates 𝐾 = 0 . . . 255\n",
        "+ The highest difference between the averages shows the most probable value candidate for the key"
      ]
    },
    {
      "cell_type": "code",
      "execution_count": null,
      "metadata": {
        "id": "H2Pb0x9BF3jE"
      },
      "outputs": [],
      "source": [
        "# ## insert your code here ## perhaps start like this ...\n",
        "\n",
        "# #for postion in range(16): # attack all bytes\n",
        "#     #for row in range(15000): # read all/some rows of .csv\n",
        "#         #for k in range(256): # guess our key\n",
        "\n",
        "# # this approach will NOT work though in terms of time available\n",
        "# for i in range(16):\n",
        "#   for j in range(15000):\n",
        "#     for k in range(256):\n",
        "\n",
        "#       if sbox(np.logical_xor(i,k)): "
      ]
    },
    {
      "cell_type": "markdown",
      "metadata": {
        "id": "Y-KlccnZF3jF"
      },
      "source": [
        "Please verify your result by plottng the timing differences. For each attacked byte, there will only be one clearly visible peak."
      ]
    },
    {
      "cell_type": "code",
      "execution_count": null,
      "metadata": {
        "id": "NsMiv4geF3jF"
      },
      "outputs": [],
      "source": [
        "# %matplotlib inline\n",
        "# print('Example')\n",
        "# fig, ax = plt.subplots(figsize=(8, 4))\n",
        "# ax.plot(delta, 'black')\n",
        "\n",
        "# ax.set_xlabel('Samples')\n",
        "# ax.set_ylabel('Value')\n",
        "# plt.show()"
      ]
    }
  ],
  "metadata": {
    "colab": {
      "provenance": [],
      "toc_visible": true
    },
    "interpreter": {
      "hash": "e7370f93d1d0cde622a1f8e1c04877d8463912d04d973331ad4851f04de6915a"
    },
    "kernelspec": {
      "display_name": "Python 3",
      "language": "python",
      "name": "python3"
    },
    "language_info": {
      "codemirror_mode": {
        "name": "ipython",
        "version": 3
      },
      "file_extension": ".py",
      "mimetype": "text/x-python",
      "name": "python",
      "nbconvert_exporter": "python",
      "pygments_lexer": "ipython3",
      "version": "3.9.1"
    }
  },
  "nbformat": 4,
  "nbformat_minor": 0
}
