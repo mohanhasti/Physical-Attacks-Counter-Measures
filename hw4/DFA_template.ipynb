{
 "cells": [
  {
   "cell_type": "code",
   "execution_count": 1,
   "id": "ba8fa8af",
   "metadata": {},
   "outputs": [],
   "source": [
    "import hashlib\n",
    "import numpy as np\n",
    "import aeskeyschedule\n",
    "from tqdm import tqdm"
   ]
  },
  {
   "cell_type": "markdown",
   "id": "561c6cdb",
   "metadata": {},
   "source": [
    "# DFA by Piret and Quisquater\n",
    "\n",
    "This template is constructed to aid with implementing both the `simple` and `full` DFA variants needed for the homework."
   ]
  },
  {
   "cell_type": "code",
   "execution_count": 2,
   "id": "f80a5086",
   "metadata": {},
   "outputs": [],
   "source": [
    "SBOX = np.array([\n",
    "        0x63, 0x7C, 0x77, 0x7B, 0xF2, 0x6B, 0x6F, 0xC5, 0x30, 0x01, 0x67, 0x2B, 0xFE, 0xD7, 0xAB, 0x76,\n",
    "        0xCA, 0x82, 0xC9, 0x7D, 0xFA, 0x59, 0x47, 0xF0, 0xAD, 0xD4, 0xA2, 0xAF, 0x9C, 0xA4, 0x72, 0xC0,\n",
    "        0xB7, 0xFD, 0x93, 0x26, 0x36, 0x3F, 0xF7, 0xCC, 0x34, 0xA5, 0xE5, 0xF1, 0x71, 0xD8, 0x31, 0x15,\n",
    "        0x04, 0xC7, 0x23, 0xC3, 0x18, 0x96, 0x05, 0x9A, 0x07, 0x12, 0x80, 0xE2, 0xEB, 0x27, 0xB2, 0x75,\n",
    "        0x09, 0x83, 0x2C, 0x1A, 0x1B, 0x6E, 0x5A, 0xA0, 0x52, 0x3B, 0xD6, 0xB3, 0x29, 0xE3, 0x2F, 0x84,\n",
    "        0x53, 0xD1, 0x00, 0xED, 0x20, 0xFC, 0xB1, 0x5B, 0x6A, 0xCB, 0xBE, 0x39, 0x4A, 0x4C, 0x58, 0xCF,\n",
    "        0xD0, 0xEF, 0xAA, 0xFB, 0x43, 0x4D, 0x33, 0x85, 0x45, 0xF9, 0x02, 0x7F, 0x50, 0x3C, 0x9F, 0xA8,\n",
    "        0x51, 0xA3, 0x40, 0x8F, 0x92, 0x9D, 0x38, 0xF5, 0xBC, 0xB6, 0xDA, 0x21, 0x10, 0xFF, 0xF3, 0xD2,\n",
    "        0xCD, 0x0C, 0x13, 0xEC, 0x5F, 0x97, 0x44, 0x17, 0xC4, 0xA7, 0x7E, 0x3D, 0x64, 0x5D, 0x19, 0x73,\n",
    "        0x60, 0x81, 0x4F, 0xDC, 0x22, 0x2A, 0x90, 0x88, 0x46, 0xEE, 0xB8, 0x14, 0xDE, 0x5E, 0x0B, 0xDB,\n",
    "        0xE0, 0x32, 0x3A, 0x0A, 0x49, 0x06, 0x24, 0x5C, 0xC2, 0xD3, 0xAC, 0x62, 0x91, 0x95, 0xE4, 0x79,\n",
    "        0xE7, 0xC8, 0x37, 0x6D, 0x8D, 0xD5, 0x4E, 0xA9, 0x6C, 0x56, 0xF4, 0xEA, 0x65, 0x7A, 0xAE, 0x08,\n",
    "        0xBA, 0x78, 0x25, 0x2E, 0x1C, 0xA6, 0xB4, 0xC6, 0xE8, 0xDD, 0x74, 0x1F, 0x4B, 0xBD, 0x8B, 0x8A,\n",
    "        0x70, 0x3E, 0xB5, 0x66, 0x48, 0x03, 0xF6, 0x0E, 0x61, 0x35, 0x57, 0xB9, 0x86, 0xC1, 0x1D, 0x9E,\n",
    "        0xE1, 0xF8, 0x98, 0x11, 0x69, 0xD9, 0x8E, 0x94, 0x9B, 0x1E, 0x87, 0xE9, 0xCE, 0x55, 0x28, 0xDF,\n",
    "        0x8C, 0xA1, 0x89, 0x0D, 0xBF, 0xE6, 0x42, 0x68, 0x41, 0x99, 0x2D, 0x0F, 0xB0, 0x54, 0xBB, 0x16\n",
    "], dtype=np.uint8)\n",
    "\n",
    "# Inverse of AES SBOX\n",
    "ISBOX = SBOX.argsort()\n",
    "\n",
    "# AES MixCols matrix\n",
    "MIXCOLS = np.array([[2, 3, 1, 1],\n",
    "                    [1, 2, 3, 1],\n",
    "                    [1, 1, 2, 3],\n",
    "                    [3, 1, 1, 2]])\n",
    "\n"
   ]
  },
  {
   "cell_type": "code",
   "execution_count": 3,
   "id": "20837b90",
   "metadata": {},
   "outputs": [],
   "source": [
    "# Check if you got the right answer for the 4 keybytes in the first column (key at indices [0, 13, 10, 7])\n",
    "# Note: We're referring to the round 10 keybytes (no need to rewind with the the key schedule)\n",
    "# Note: The same key is used both for the `simple` and `full` DFA\n",
    "\n",
    "def check_keybytes(k_0: int, k_13: int, k_10: int, k_7: int):\n",
    "    keybytes = bytes([k_0, k_13, k_10, k_7])\n",
    "    hasher = hashlib.sha3_256()\n",
    "    hasher.update(keybytes)\n",
    "    key_hash = hasher.hexdigest()\n",
    "    if key_hash == '4409976e63e88e6d0ef93405e6b6d678c2a498d22dcaa72b28c8c9cd6233ec7f':\n",
    "        print(\"Congratulations! Correct 4 keybytes found\")\n",
    "        return True\n",
    "    \n",
    "    print(\"Not quite right\")\n",
    "    return False"
   ]
  },
  {
   "cell_type": "code",
   "execution_count": 4,
   "id": "8c12c5e5",
   "metadata": {},
   "outputs": [
    {
     "name": "stdout",
     "output_type": "stream",
     "text": [
      "First pair diff:\n",
      "[[ 46   0   0   0]\n",
      " [  0   0   0 208]\n",
      " [  0   0 195   0]\n",
      " [  0 243   0   0]]\n",
      "Second pair diff:\n",
      "[[147   0   0   0]\n",
      " [  0   0   0 211]\n",
      " [  0   0  31   0]\n",
      " [  0 223   0   0]]\n"
     ]
    }
   ],
   "source": [
    "# Two pairs of ciphertext/faulty texts.\n",
    "# The fault is injected in the *first byte* before the MixCols in the 9th round\n",
    "# Note: use for `simple` DFA (part C)\n",
    "\n",
    "simple_ctxt1 = [174, 44, 204, 43, 18, 196, 238, 88, 3, 227, 92, 0, 137, 106, 205, 88]\n",
    "simple_ftxt1 = [128, 44, 204, 43, 18, 196, 238, 171, 3, 227, 159, 0, 137, 186, 205, 88]\n",
    "\n",
    "simple_ctxt2 = [41, 4, 148, 29, 23, 74, 41, 127, 125, 148, 36, 219, 29, 127, 4, 58]\n",
    "simple_ftxt2 = [186, 4, 148, 29, 23, 74, 41, 160, 125, 148, 59, 219, 29, 172, 4, 58]\n",
    "\n",
    "\n",
    "# Load ctext/ftext pairs in the correct AES column order\n",
    "simple_ctxt1 = np.reshape(simple_ctxt1, (4, 4), order='F').astype(np.uint8)\n",
    "simple_ftxt1 = np.reshape(simple_ftxt1, (4, 4), order='F').astype(np.uint8)\n",
    "\n",
    "simple_ctxt2 = np.reshape(simple_ctxt2, (4, 4), order='F').astype(np.uint8)\n",
    "simple_ftxt2 = np.reshape(simple_ftxt2, (4, 4), order='F').astype(np.uint8)\n",
    "\n",
    "print(\"First pair diff:\")\n",
    "print(simple_ctxt1 ^ simple_ftxt1)\n",
    "\n",
    "print(\"Second pair diff:\")\n",
    "print(simple_ctxt2 ^ simple_ftxt2)\n",
    "# print(simple_ctxt1)"
   ]
  },
  {
   "cell_type": "code",
   "execution_count": 5,
   "id": "eb64cca0",
   "metadata": {},
   "outputs": [
    {
     "name": "stdout",
     "output_type": "stream",
     "text": [
      "[[  0   0   0 109]\n",
      " [  0   0  50   0]\n",
      " [  0   3   0   0]\n",
      " [206   0   0   0]]\n"
     ]
    }
   ],
   "source": [
    "# Load all plaintexts/ciphertexts/faultytexts in the correct AES column order\n",
    "# Note: not needed for the `simple` DFA (part C) \n",
    "\n",
    "row_type = np.dtype((np.uint8, (4, 4)))\n",
    "all_ctext = np.fromfile(\"full_dfa_data/ctext.bin\", dtype=row_type).transpose(0, 2, 1)\n",
    "all_ptext = np.fromfile(\"full_dfa_data/ptext.bin\", dtype=row_type).transpose(0, 2, 1)\n",
    "all_ftext = np.fromfile(\"full_dfa_data/ftext.bin\", dtype=row_type).transpose(0, 2, 1)\n",
    "\n",
    "print(all_ctext[0] ^ all_ftext[0])"
   ]
  },
  {
   "cell_type": "code",
   "execution_count": 6,
   "id": "cbdde4d8",
   "metadata": {},
   "outputs": [],
   "source": [
    "# Galois multiplication by 2 (for MixCols)\n",
    "def galois_mult_2(a):\n",
    "    temp = (a << 1) & 0xff\n",
    "\n",
    "    if (a & 0x80):\n",
    "        temp ^= 0x1b\n",
    "\n",
    "    return temp\n",
    "\n",
    "# Galois multiplication by 3 (for MixCols)\n",
    "def galois_mult_3(a):\n",
    "    return galois_mult_2(a) ^ a"
   ]
  },
  {
   "cell_type": "code",
   "execution_count": 7,
   "id": "0fe9a71b",
   "metadata": {},
   "outputs": [],
   "source": [
    "# AES ShiftRows\n",
    "# `mat` is 4x4 AES matrix\n",
    "def shift(mat):\n",
    "    shifted = np.zeros_like(mat)\n",
    "    for i in range(4):\n",
    "        shifted[i] = mat[i, np.arange(i, 4+i) % 4]\n",
    "    return shifted\n",
    "\n",
    "# TODO: implement your own. Should undo shift(mat)\n",
    "def unshift(mat):\n",
    "    # for i in range(3):\n",
    "    #    mat = shift(mat)\n",
    "    # return mat\n",
    "    return shift(shift(shift(mat)))\n",
    "    # pass\n"
   ]
  },
  {
   "cell_type": "code",
   "execution_count": 8,
   "id": "a945dc4f",
   "metadata": {},
   "outputs": [
    {
     "name": "stdout",
     "output_type": "stream",
     "text": [
      "Length of lookup table: 255\n"
     ]
    }
   ],
   "source": [
    "# Precompute all possible mixcols(glitch)\n",
    "# TODO: Only works if glitch is in the first row! \n",
    "#       For `full` DFA need to add more entries to make it work for glitches in any row\n",
    "\n",
    "D = []\n",
    "\n",
    "mixcol = MIXCOLS[:, 0]\n",
    "for x in range(1, 255+1):\n",
    "    D_element = []\n",
    "    for j in range(4):\n",
    "        out = None\n",
    "        if mixcol[j] == 1:\n",
    "            out = x\n",
    "        if mixcol[j] == 2:\n",
    "            out = galois_mult_2(x)\n",
    "        if mixcol[j] == 3:\n",
    "            out = galois_mult_3(x)\n",
    "        D_element.append(out)\n",
    "    D.append(D_element)\n",
    "\n",
    "\n",
    "print(\"Length of lookup table:\", len(D))"
   ]
  },
  {
   "cell_type": "code",
   "execution_count": 20,
   "id": "f5f2fa7a",
   "metadata": {},
   "outputs": [
    {
     "name": "stdout",
     "output_type": "stream",
     "text": [
      "Length of lookup table: 1020\n"
     ]
    }
   ],
   "source": [
    "#full attack D\n",
    "D_full = []\n",
    "\n",
    "for i in range(len(MIXCOLS)):\n",
    "    mixcol = MIXCOLS[:, i]\n",
    "    for x in range(1, 255+1):\n",
    "        D_element = []\n",
    "        for j in range(4):\n",
    "            out = None\n",
    "            if mixcol[j] == 1:\n",
    "                out = x\n",
    "            if mixcol[j] == 2:\n",
    "                out = galois_mult_2(x)\n",
    "            if mixcol[j] == 3:\n",
    "                out = galois_mult_3(x)\n",
    "            D_element.append(out)\n",
    "        D_full.append(D_element)\n",
    "\n",
    "print(\"Length of lookup table:\", len(D_full))\n",
    "# print(D_full)"
   ]
  },
  {
   "cell_type": "markdown",
   "id": "cce71aaf",
   "metadata": {},
   "source": [
    "# Simple Attack Algorithm (finds 4 bytes):\n",
    "\n",
    "## Variable Definitions\n",
    "Let $c, c'$ be the first (ciphertext, faultytext) pair and $c, c^{*\\prime}$ be the second pair.\n",
    "Note: $c_0$ refers to the $0$ index byte of the ciphertext\n",
    "\n",
    "## Preliminary Filtering\n",
    "1. For each $K_0 \\in 0 \\text{ to } 255$ and $K_{13} \\in 0 \\text{ to } 255$, and $x \\in 1 \\text{ to } 255$\n",
    "    - Check if $ISBOX(K_0 \\oplus c_0) \\oplus ISBOX(K_0 \\oplus c_0') \\stackrel{?}{=} D[x, 0]$\n",
    "    - Check if $ISBOX(K_{13} \\oplus c_{13}) \\oplus ISBOX(K_{13} \\oplus c_{13}') \\stackrel{?}{=} D[x, 1]$\n",
    "\n",
    "    - If both are true, add candidates $\\{K_0, K_{13}\\}$ to group $K_{c2}$\n",
    "2. For each $K_{10} \\in 0 \\text{ to } 255$, and $\\{K_{0}, K_{13}\\} \\in K_{c2}$, and $x \\in 1 \\text{ to } 255$\n",
    "    - Check if $ISBOX(K_0 \\oplus c_0) \\oplus ISBOX(K_0 \\oplus c_0') \\stackrel{?}{=} D[x, 0]$\n",
    "    - Check if $ISBOX(K_{13} \\oplus c_{13}) \\oplus ISBOX(K_{13} \\oplus c_{13}') \\stackrel{?}{=} D[x, 1]$\n",
    "    - Check if $ISBOX(K_{10} \\oplus c_{10}) \\oplus ISBOX(K_{10} \\oplus c_{10}') \\stackrel{?}{=} D[x, 2]$\n",
    "\n",
    "    - If so, add candidates $\\{K_0, K_{13}, K_{10}\\}$ to group $K_{c3}$\n",
    "3. For each $K_{7} \\in 0 \\text{ to } 255$, and $\\{K_{0}, K_{13}, K_{10}\\} \\in K_{c3}$, and $x \\in 1 \\text{ to } 255$\n",
    "    - Check if $ISBOX(K_0 \\oplus c_0) \\oplus ISBOX(K_0 \\oplus c_0') \\stackrel{?}{=} D[x, 0]$\n",
    "    - Check if $ISBOX(K_{13} \\oplus c_{13}) \\oplus ISBOX(K_{13} \\oplus c_{13}') \\stackrel{?}{=} D[x, 1]$\n",
    "    - Check if $ISBOX(K_{10} \\oplus c_{10}) \\oplus ISBOX(K_{10} \\oplus c_{10}') \\stackrel{?}{=} D[x, 2]$\n",
    "    - Check if $ISBOX(K_{7} \\oplus c_{7}) \\oplus ISBOX(K_{7} \\oplus c_{7}') \\stackrel{?}{=} D[x, 3]$\n",
    "\n",
    "    - If so, add candidates $\\{K_0, K_{13}, K_{10}, K_{7}\\}$ to group $K_{c4}$\n",
    "    \n",
    "## Finding Final Candidate\n",
    "1. For each $\\{K_{0}, K_{13}, K_{10}, K_7\\} \\in K_{c4}$, and $x \\in 1 \\text{ to } 255$\n",
    "  - $ISBOX(K_0 \\oplus c^{*}_0) \\oplus ISBOX(K_0 \\oplus c^{*\\prime}_0) \\stackrel{?}{=} D[x, 0]$\n",
    "  - $ISBOX(K_{13} \\oplus c^{*}_{13}) \\oplus ISBOX(K_{13} \\oplus c^{*\\prime}_{13}) \\stackrel{?}{=} D[x, 1]$\n",
    "  - $ISBOX(K_{10} \\oplus c^{*}_{10}) \\oplus ISBOX(K_{10} \\oplus c^{*\\prime}_{10}) \\stackrel{?}{=} D[x, 2]$\n",
    "  - $ISBOX(K_{7} \\oplus c^{*}_{7}) \\oplus ISBOX(K_{7} \\oplus c^{*\\prime}_{7}) \\stackrel{?}{=} D[x, 3]$\n",
    "  - If all are true $\\{K_0, K_{13}, K_{10}, K_{7}\\}$, are likely correct keybytes\n",
    "\n",
    "\n",
    "# Indexing Tips:\n",
    "You can access elements such as $c_{0}, c_{13}, c_{10}, c_{7}$ by using np.unravel() like this:"
   ]
  },
  {
   "cell_type": "code",
   "execution_count": 10,
   "id": "ee86c233",
   "metadata": {},
   "outputs": [],
   "source": [
    "#preperation for simple attack\n",
    "\n",
    "c0 = simple_ctxt1[np.unravel_index(0, shape=(4,4), order='F')]\n",
    "c13 = simple_ctxt1[np.unravel_index(13, shape=(4,4), order='F')]\n",
    "c10 = simple_ctxt1[np.unravel_index(10, shape=(4,4), order='F')]\n",
    "c7 = simple_ctxt1[np.unravel_index(7, shape=(4,4), order='F')]\n",
    "\n",
    "c0_ = simple_ftxt1[np.unravel_index(0, shape=(4,4), order='F')]\n",
    "c13_ = simple_ftxt1[np.unravel_index(13, shape=(4,4), order='F')]\n",
    "c10_ = simple_ftxt1[np.unravel_index(10, shape=(4,4), order='F')]\n",
    "c7_ = simple_ftxt1[np.unravel_index(7, shape=(4,4), order='F')]\n",
    "\n",
    "c01 = simple_ctxt2[np.unravel_index(0, shape=(4,4), order='F')]\n",
    "c131 = simple_ctxt2[np.unravel_index(13, shape=(4,4), order='F')]\n",
    "c101 = simple_ctxt2[np.unravel_index(10, shape=(4,4), order='F')]\n",
    "c71 = simple_ctxt2[np.unravel_index(7, shape=(4,4), order='F')]\n",
    "\n",
    "c0_1 = simple_ftxt2[np.unravel_index(0, shape=(4,4), order='F')]\n",
    "c13_1 = simple_ftxt2[np.unravel_index(13, shape=(4,4), order='F')]\n",
    "c10_1 = simple_ftxt2[np.unravel_index(10, shape=(4,4), order='F')]\n",
    "c7_1 = simple_ftxt2[np.unravel_index(7, shape=(4,4), order='F')]\n"
   ]
  },
  {
   "cell_type": "code",
   "execution_count": 11,
   "id": "32594970",
   "metadata": {},
   "outputs": [
    {
     "name": "stderr",
     "output_type": "stream",
     "text": [
      "100%|██████████| 255/255 [00:03<00:00, 75.16it/s]\n",
      "100%|██████████| 250/250 [00:04<00:00, 58.66it/s]\n",
      "100%|██████████| 240/240 [00:04<00:00, 59.60it/s]\n",
      "100%|██████████| 240/240 [00:00<00:00, 10216.51it/s]"
     ]
    },
    {
     "name": "stdout",
     "output_type": "stream",
     "text": [
      "Congratulations! Correct 4 keybytes found\n",
      "168 138 164 45\n"
     ]
    },
    {
     "name": "stderr",
     "output_type": "stream",
     "text": [
      "\n"
     ]
    }
   ],
   "source": [
    "# Perform `simple` DFA below: you should use (`simple_ctxt1`, `simple_ftxt1`) and (`simple_ctxt2`, `simple_ftxt2`)\n",
    "# Note: remember to use `check_keybytes()` function to check your answer!\n",
    "def simple_attack():\n",
    "    #filtering for first 2 bytes\n",
    "    kc2 = []\n",
    "    for k0 in tqdm(range(1,256)):\n",
    "        diff_0 = ISBOX[(k0 ^ c0)]^ISBOX[(k0 ^ c0_)]\n",
    "        for k13 in range(1,256):\n",
    "            diff_1 = ISBOX[(k13 ^ c13)]^ISBOX[(k13 ^ c13_)]\n",
    "            for x in range(len(D)):\n",
    "                if( D[x][0] == diff_0 and D[x][1] == diff_1):\n",
    "                    kc2.append((k0, k13))# got 2 possible key values, add candidate\n",
    "                    break\n",
    "\n",
    "    #filtering for 3rd bytes\n",
    "    kc3 = []\n",
    "    for k0, k13 in tqdm(kc2):\n",
    "        diff_0 = ISBOX[(k0 ^ c0)]^ISBOX[(k0 ^ c0_)]\n",
    "        diff_1 = ISBOX[(k13 ^ c13)]^ISBOX[(k13 ^ c13_)]\n",
    "        for k10 in range(1,256):\n",
    "            diff_2 = ISBOX[(k10 ^ c10)] ^ ISBOX[(k10 ^ c10_)]\n",
    "            for x in range(len(D)):\n",
    "                if( D[x][0] == diff_0 and D[x][1] == diff_1 and D[x][2] == diff_2):\n",
    "                    kc3.append((k0, k13, k10))# got 3rd possible value, add candidate\n",
    "                    break\n",
    "    \n",
    "    #filtering for 4th bytes\n",
    "    kc4 = []\n",
    "    for k0, k13, k10 in tqdm(kc3):\n",
    "        diff_0 = ISBOX[(k0 ^ c0)]^ISBOX[(k0 ^ c0_)]\n",
    "        diff_1 = ISBOX[(k13 ^ c13)]^ISBOX[(k13 ^ c13_)]\n",
    "        diff_2 = ISBOX[(k10 ^ c10)]^ISBOX[(k10 ^ c10_)]\n",
    "        for k7 in range(1,256):\n",
    "            diff_3 = ISBOX[(k7 ^ c7)] ^ ISBOX[(k7 ^ c7_)]\n",
    "            for x in range(len(D)):\n",
    "                if( D[x][0] == diff_0 and D[x][1] == diff_1 and D[x][2] == diff_2 and D[x][3] == diff_3):\n",
    "                    kc4.append((k0, k13, k10, k7))# got 4th possible value, add candidate\n",
    "                    break\n",
    "    return kc4\n",
    "kc4 = simple_attack() \n",
    "#check to see if all bytes are correct \n",
    "for k0,k13,k10,k7 in tqdm(kc4):\n",
    "    diff_0 = ISBOX[(k0 ^ c01)]^ISBOX[(k0 ^ c0_1)]\n",
    "    diff_1 = ISBOX[(k13 ^ c131)]^ISBOX[(k13 ^ c13_1)]\n",
    "    diff_2 = ISBOX[(k10 ^ c101)]^ISBOX[(k10 ^ c10_1)]\n",
    "    diff_3 = ISBOX[(k7 ^ c71)] ^ ISBOX[(k7 ^ c7_1)]\n",
    "    for x in range(len(D)):\n",
    "        if (D[x][0] == diff_0 and D[x][1] == diff_1 and D[x][2] == diff_2 and D[x][3] == diff_3):\n",
    "            if(check_keybytes(k0,k13,k10,k7)):\n",
    "                print(k0,k13,k10,k7)\n",
    "                break      "
   ]
  },
  {
   "cell_type": "code",
   "execution_count": 21,
   "id": "70a2e64d",
   "metadata": {},
   "outputs": [
    {
     "name": "stdout",
     "output_type": "stream",
     "text": [
      "[18, 22, 35, 38, 48, 69, 77, 96, 118, 126, 139, 141, 151, 159, 169, 180, 211, 212, 217, 225, 228, 257, 260, 295, 303, 326, 335, 343, 344, 352, 362, 374, 376, 379, 381, 385, 395, 408, 412, 419, 422, 430, 434, 440, 448, 461, 467, 472, 488, 493, 504, 510, 513, 516, 517, 524, 528, 541, 546, 548, 572, 582, 607, 620, 626, 630, 631, 633, 635, 654, 663, 692, 694, 705, 717, 728, 737, 750, 753, 754, 762, 768, 782, 789, 797, 804, 815, 822, 833, 834, 837, 843, 855, 869, 889, 894, 912, 926, 933, 942, 972, 984, 986]\n",
      "[4, 5, 9, 23, 30, 33, 37, 52, 54, 64, 91, 94, 95, 98, 101, 102, 113, 127, 153, 155, 157, 161, 163, 165, 171, 178, 218, 219, 230, 236, 243, 250, 252, 255, 277, 292, 317, 319, 321, 339, 375, 380, 406, 417, 433, 442, 447, 449, 453, 477, 487, 497, 561, 571, 576, 581, 590, 592, 593, 594, 595, 609, 622, 629, 639, 656, 657, 659, 666, 673, 683, 699, 724, 735, 763, 769, 796, 799, 802, 806, 819, 844, 863, 872, 884, 890, 895, 898, 910, 919, 948, 957, 974, 982, 995]\n",
      "[24, 28, 56, 62, 71, 73, 75, 103, 108, 136, 148, 150, 162, 188, 190, 193, 197, 204, 206, 226, 249, 284, 296, 302, 316, 318, 329, 333, 349, 355, 361, 365, 393, 397, 415, 444, 454, 456, 457, 462, 468, 471, 482, 489, 496, 515, 526, 533, 538, 539, 553, 566, 575, 584, 586, 587, 600, 602, 617, 643, 647, 653, 655, 687, 689, 691, 697, 712, 713, 731, 736, 740, 748, 766, 773, 784, 800, 803, 821, 824, 857, 874, 875, 885, 887, 896, 909, 917, 920, 921, 935, 941, 949, 952, 953, 955, 961, 981, 987, 998]\n",
      "[0, 8, 14, 44, 51, 58, 74, 80, 104, 119, 133, 138, 142, 154, 183, 194, 199, 203, 227, 229, 241, 259, 266, 275, 311, 322, 328, 340, 342, 356, 357, 372, 382, 384, 386, 401, 407, 418, 424, 426, 436, 439, 455, 458, 469, 475, 479, 498, 501, 502, 503, 507, 532, 551, 555, 558, 562, 577, 606, 608, 612, 616, 632, 640, 641, 660, 669, 675, 681, 686, 702, 718, 719, 720, 741, 743, 746, 751, 767, 779, 781, 809, 813, 818, 838, 848, 849, 852, 858, 865, 878, 879, 892, 901, 902, 924, 925, 927, 950, 956, 960, 963, 967, 999]\n"
     ]
    }
   ],
   "source": [
    "#to segregate columns into groups\n",
    "get_groups = [[], [], [], []]\n",
    "for i in range(len(all_ctext)):\n",
    "    group = all_ctext[i] ^ all_ftext[i]\n",
    "    for j in range(4):\n",
    "        if group[0][j]:\n",
    "            get_groups[j].append(i)\n",
    "            \n",
    "get_groups[0] = str(get_groups[0])#falut in first column\n",
    "get_groups[1] = str(get_groups[1])#falut in second column\n",
    "get_groups[2] = str(get_groups[2])#falut in third column\n",
    "get_groups[3] = str(get_groups[3])#falut in fourth column\n",
    "print(\"\\n\".join(get_groups))"
   ]
  },
  {
   "cell_type": "code",
   "execution_count": 30,
   "id": "34720f4e",
   "metadata": {},
   "outputs": [],
   "source": [
    "# Perform `full` DFA below: you should use `all_ctext` and `all_ftext`\n",
    "# Note: You can still use `check_keybytes()` function to check your answer for the first 4 keybytes\n",
    "# Note: After recovering the whole key, you need to rewind the key schedule to get the original key\n",
    "#       You can you use the python library `aeskeyschedule` (pip install aeskeyschedule) if you wish\n",
    "\n",
    "def full_attack():\n",
    "\n",
    "    #filtering for first 2 bytes\n",
    "    kc2 = []\n",
    "    for k0 in tqdm(range(1,256)):\n",
    "        diff_0 = ISBOX[(k0 ^ c0)]^ISBOX[(k0 ^ c0_)] \n",
    "        for k13 in range(1,256):\n",
    "            diff_1 = ISBOX[(k13 ^ c13)]^ISBOX[(k13 ^ c13_)]\n",
    "            for x in range(len(D_full)):\n",
    "                if( D_full[x][0] == diff_0 and D_full[x][1] == diff_1):\n",
    "                    kc2.append((k0, k13))# got 2 possible key values, add candidate\n",
    "                    break\n",
    "    \n",
    "    #filtering for 3rd bytes\n",
    "    kc3 = []\n",
    "    for k0, k13 in tqdm(kc2):\n",
    "        diff_0 = ISBOX[(k0 ^ c0)]^ISBOX[(k0 ^ c0_)]\n",
    "        diff_1 = ISBOX[(k13 ^ c13)]^ISBOX[(k13 ^ c13_)]\n",
    "        for k10 in range(1,256):\n",
    "            diff_2 = ISBOX[(k10 ^ c10)] ^ ISBOX[(k10 ^ c10_)]\n",
    "            for x in range(len(D_full)):\n",
    "                if( D_full[x][0] == diff_0 and D_full[x][1] == diff_1 and D_full[x][2] == diff_2):\n",
    "                    kc3.append((k0, k13, k10)) # got 3rd possible value, add candidate\n",
    "                    break\n",
    "    \n",
    "    #filtering for 4th bytes\n",
    "    kc4 = []\n",
    "    for k0, k13, k10 in tqdm(kc3):\n",
    "        diff_0 = ISBOX[(k0 ^ c0)]^ISBOX[(k0 ^ c0_)]\n",
    "        diff_1 = ISBOX[(k13 ^ c13)]^ISBOX[(k13 ^ c13_)]\n",
    "        diff_2 = ISBOX[(k10 ^ c10)]^ISBOX[(k10 ^ c10_)]\n",
    "        for k7 in range(1,256):\n",
    "            diff_3 = ISBOX[(k7 ^ c7)] ^ ISBOX[(k7 ^ c7_)]\n",
    "            for x in range(len(D_full)):\n",
    "                if( D_full[x][0] == diff_0 and D_full[x][1] == diff_1 and D_full[x][2] == diff_2 and D_full[x][3] == diff_3):\n",
    "                    kc4.append((k0, k13, k10, k7))# got 4th possible value, add candidate\n",
    "                    break\n",
    "\n",
    "    print(\"checking for correct keys\")\n",
    "    for k0,k13,k10,k7 in tqdm(kc4):\n",
    "        diff_0 = ISBOX[(k0 ^ c01)]^ISBOX[(k0 ^ c0_1)]\n",
    "        diff_1 = ISBOX[(k13 ^ c131)]^ISBOX[(k13 ^ c13_1)]\n",
    "        diff_2 = ISBOX[(k10 ^ c101)]^ISBOX[(k10 ^ c10_1)]\n",
    "        diff_3 = ISBOX[(k7 ^ c71)] ^ ISBOX[(k7 ^ c7_1)]\n",
    "        #check to see if all bytes are correct\n",
    "        for x in range(len(D_full)):\n",
    "            if (D_full[x][0] == diff_0 and D_full[x][1] == diff_1 and D_full[x][2] == diff_2 and D_full[x][3] == diff_3):\n",
    "                # if(check_keybytes(k0,k13,k10,k7)):\n",
    "                print(k0,k13,k10,k7)\n",
    "                #     print(diff_0,diff_1,diff_2,diff_3)\n",
    "                # else: \n",
    "                #     print(\"not found\")\n",
    "                break"
   ]
  },
  {
   "cell_type": "code",
   "execution_count": 31,
   "id": "9227bd20",
   "metadata": {},
   "outputs": [
    {
     "name": "stdout",
     "output_type": "stream",
     "text": [
      "first 4 bytes\n"
     ]
    },
    {
     "name": "stderr",
     "output_type": "stream",
     "text": [
      "100%|██████████| 255/255 [00:12<00:00, 19.64it/s]\n",
      "100%|██████████| 1014/1014 [01:00<00:00, 16.84it/s]\n",
      "100%|██████████| 992/992 [00:59<00:00, 16.61it/s]\n"
     ]
    },
    {
     "name": "stdout",
     "output_type": "stream",
     "text": [
      "checking for correct keys\n"
     ]
    },
    {
     "name": "stderr",
     "output_type": "stream",
     "text": [
      " 37%|███▋      | 354/952 [00:00<00:00, 3525.54it/s]"
     ]
    },
    {
     "name": "stdout",
     "output_type": "stream",
     "text": [
      "168 138 164 45\n"
     ]
    },
    {
     "name": "stderr",
     "output_type": "stream",
     "text": [
      "100%|██████████| 952/952 [00:00<00:00, 3657.43it/s]\n"
     ]
    }
   ],
   "source": [
    "#preperation for full attack\n",
    "\n",
    "#for first column\n",
    "simple_ctxt1 = all_ctext[22]\n",
    "simple_ftxt1 = all_ftext[22]\n",
    "simple_ctxt2 = all_ctext[18]\n",
    "simple_ftxt2 = all_ftext[18]\n",
    "\n",
    "c0 = simple_ctxt1[np.unravel_index(0, shape=(4,4), order='F')]\n",
    "c13 = simple_ctxt1[np.unravel_index(13, shape=(4,4), order='F')]\n",
    "c10 = simple_ctxt1[np.unravel_index(10, shape=(4,4), order='F')]\n",
    "c7 = simple_ctxt1[np.unravel_index(7, shape=(4,4), order='F')]\n",
    "\n",
    "c0_ = simple_ftxt1[np.unravel_index(0, shape=(4,4), order='F')]\n",
    "c13_ = simple_ftxt1[np.unravel_index(13, shape=(4,4), order='F')]\n",
    "c10_ = simple_ftxt1[np.unravel_index(10, shape=(4,4), order='F')]\n",
    "c7_ = simple_ftxt1[np.unravel_index(7, shape=(4,4), order='F')]\n",
    "\n",
    "c01 = simple_ctxt2[np.unravel_index(0, shape=(4,4), order='F')]\n",
    "c131 = simple_ctxt2[np.unravel_index(13, shape=(4,4), order='F')]\n",
    "c101 = simple_ctxt2[np.unravel_index(10, shape=(4,4), order='F')]\n",
    "c71 = simple_ctxt2[np.unravel_index(7, shape=(4,4), order='F')]\n",
    "\n",
    "c0_1 = simple_ftxt2[np.unravel_index(0, shape=(4,4), order='F')]\n",
    "c13_1 = simple_ftxt2[np.unravel_index(13, shape=(4,4), order='F')]\n",
    "c10_1 = simple_ftxt2[np.unravel_index(10, shape=(4,4), order='F')]\n",
    "c7_1 = simple_ftxt2[np.unravel_index(7, shape=(4,4), order='F')]\n",
    "\n",
    "print(\"first 4 bytes\")\n",
    "full_attack()\n"
   ]
  },
  {
   "cell_type": "code",
   "execution_count": 29,
   "id": "7ecc9411",
   "metadata": {},
   "outputs": [
    {
     "name": "stdout",
     "output_type": "stream",
     "text": [
      "first 4 bytes\n"
     ]
    },
    {
     "name": "stderr",
     "output_type": "stream",
     "text": [
      "100%|██████████| 255/255 [00:13<00:00, 18.65it/s]\n",
      "100%|██████████| 1014/1014 [00:58<00:00, 17.20it/s]\n",
      "100%|██████████| 992/992 [00:59<00:00, 16.63it/s]\n"
     ]
    },
    {
     "name": "stdout",
     "output_type": "stream",
     "text": [
      "checking for correct keys\n"
     ]
    },
    {
     "name": "stderr",
     "output_type": "stream",
     "text": [
      "100%|██████████| 952/952 [00:00<00:00, 3229.96it/s]"
     ]
    },
    {
     "name": "stdout",
     "output_type": "stream",
     "text": [
      "168 138 164 45\n"
     ]
    },
    {
     "name": "stderr",
     "output_type": "stream",
     "text": [
      "\n"
     ]
    }
   ],
   "source": [
    "#preperation for full attack\n",
    "\n",
    "#for first column\n",
    "simple_ctxt1 = all_ctext[22]\n",
    "simple_ftxt1 = all_ftext[22]\n",
    "simple_ctxt2 = all_ctext[18]\n",
    "simple_ftxt2 = all_ftext[18]\n",
    "\n",
    "c0 = simple_ctxt1[np.unravel_index(0, shape=(4,4), order='F')]\n",
    "c13 = simple_ctxt1[np.unravel_index(13, shape=(4,4), order='F')]\n",
    "c10 = simple_ctxt1[np.unravel_index(10, shape=(4,4), order='F')]\n",
    "c7 = simple_ctxt1[np.unravel_index(7, shape=(4,4), order='F')]\n",
    "\n",
    "c0_ = simple_ftxt1[np.unravel_index(0, shape=(4,4), order='F')]\n",
    "c13_ = simple_ftxt1[np.unravel_index(13, shape=(4,4), order='F')]\n",
    "c10_ = simple_ftxt1[np.unravel_index(10, shape=(4,4), order='F')]\n",
    "c7_ = simple_ftxt1[np.unravel_index(7, shape=(4,4), order='F')]\n",
    "\n",
    "c01 = simple_ctxt2[np.unravel_index(0, shape=(4,4), order='F')]\n",
    "c131 = simple_ctxt2[np.unravel_index(13, shape=(4,4), order='F')]\n",
    "c101 = simple_ctxt2[np.unravel_index(10, shape=(4,4), order='F')]\n",
    "c71 = simple_ctxt2[np.unravel_index(7, shape=(4,4), order='F')]\n",
    "\n",
    "c0_1 = simple_ftxt2[np.unravel_index(0, shape=(4,4), order='F')]\n",
    "c13_1 = simple_ftxt2[np.unravel_index(13, shape=(4,4), order='F')]\n",
    "c10_1 = simple_ftxt2[np.unravel_index(10, shape=(4,4), order='F')]\n",
    "c7_1 = simple_ftxt2[np.unravel_index(7, shape=(4,4), order='F')]\n",
    "\n",
    "print(\"first 4 bytes\")\n",
    "full_attack()\n"
   ]
  },
  {
   "cell_type": "code",
   "execution_count": 26,
   "id": "ba3c92ae",
   "metadata": {},
   "outputs": [
    {
     "name": "stdout",
     "output_type": "stream",
     "text": [
      "second four bytes\n"
     ]
    },
    {
     "name": "stderr",
     "output_type": "stream",
     "text": [
      "100%|██████████| 255/255 [00:13<00:00, 19.14it/s]\n",
      "100%|██████████| 1010/1010 [01:02<00:00, 16.13it/s]\n",
      "100%|██████████| 996/996 [01:02<00:00, 15.99it/s]\n"
     ]
    },
    {
     "name": "stdout",
     "output_type": "stream",
     "text": [
      "checking for correct keys\n"
     ]
    },
    {
     "name": "stderr",
     "output_type": "stream",
     "text": [
      " 81%|████████  | 763/944 [00:00<00:00, 3799.15it/s]"
     ]
    },
    {
     "name": "stdout",
     "output_type": "stream",
     "text": [
      "53 73 46 171\n"
     ]
    },
    {
     "name": "stderr",
     "output_type": "stream",
     "text": [
      "100%|██████████| 944/944 [00:00<00:00, 3623.28it/s]\n"
     ]
    }
   ],
   "source": [
    "#preperation for full attack\n",
    "\n",
    "#for second column\n",
    "simple_ctxt1 = all_ctext[4]\n",
    "simple_ftxt1 = all_ftext[4]\n",
    "simple_ctxt2 = all_ctext[819]\n",
    "simple_ftxt2 = all_ftext[819]\n",
    "c0 = simple_ctxt1[np.unravel_index(4, shape=(4,4), order='F')]\n",
    "c13 = simple_ctxt1[np.unravel_index(1, shape=(4,4), order='F')]\n",
    "c10 = simple_ctxt1[np.unravel_index(14, shape=(4,4), order='F')]\n",
    "c7 = simple_ctxt1[np.unravel_index(11, shape=(4,4), order='F')]\n",
    "\n",
    "c0_ = simple_ftxt1[np.unravel_index(4, shape=(4,4), order='F')]\n",
    "c13_ = simple_ftxt1[np.unravel_index(1, shape=(4,4), order='F')]\n",
    "c10_ = simple_ftxt1[np.unravel_index(14, shape=(4,4), order='F')]\n",
    "c7_ = simple_ftxt1[np.unravel_index(11, shape=(4,4), order='F')]\n",
    "\n",
    "c01 = simple_ctxt2[np.unravel_index(4, shape=(4,4), order='F')]\n",
    "c131 = simple_ctxt2[np.unravel_index(1, shape=(4,4), order='F')]\n",
    "c101 = simple_ctxt2[np.unravel_index(14, shape=(4,4), order='F')]\n",
    "c71 = simple_ctxt2[np.unravel_index(11, shape=(4,4), order='F')]\n",
    "\n",
    "c0_1 = simple_ftxt2[np.unravel_index(4, shape=(4,4), order='F')]\n",
    "c13_1 = simple_ftxt2[np.unravel_index(1, shape=(4,4), order='F')]\n",
    "c10_1 = simple_ftxt2[np.unravel_index(14, shape=(4,4), order='F')]\n",
    "c7_1 = simple_ftxt2[np.unravel_index(11, shape=(4,4), order='F')]\n",
    "print(\"second four bytes\")\n",
    "full_attack()"
   ]
  },
  {
   "cell_type": "code",
   "execution_count": 27,
   "id": "7d308dbf",
   "metadata": {},
   "outputs": [
    {
     "name": "stdout",
     "output_type": "stream",
     "text": [
      "third four bytes\n"
     ]
    },
    {
     "name": "stderr",
     "output_type": "stream",
     "text": [
      "100%|██████████| 255/255 [00:12<00:00, 19.85it/s]\n",
      "100%|██████████| 1018/1018 [01:02<00:00, 16.37it/s]\n",
      "100%|██████████| 976/976 [01:03<00:00, 15.32it/s]\n"
     ]
    },
    {
     "name": "stdout",
     "output_type": "stream",
     "text": [
      "checking for correct keys\n"
     ]
    },
    {
     "name": "stderr",
     "output_type": "stream",
     "text": [
      " 69%|██████▉   | 664/960 [00:00<00:00, 3334.33it/s]"
     ]
    },
    {
     "name": "stdout",
     "output_type": "stream",
     "text": [
      "93 213 55 198\n"
     ]
    },
    {
     "name": "stderr",
     "output_type": "stream",
     "text": [
      "100%|██████████| 960/960 [00:00<00:00, 3417.48it/s]\n"
     ]
    }
   ],
   "source": [
    "#preperation for full attack\n",
    "\n",
    "#for third column\n",
    "simple_ctxt1 = all_ctext[24]\n",
    "simple_ftxt1 = all_ftext[24]\n",
    "simple_ctxt2 = all_ctext[28]\n",
    "simple_ftxt2 = all_ftext[28]\n",
    "\n",
    "# print(simple_ctxt1)\n",
    "# print(simple_ftxt1)\n",
    "# print(simple_ctxt1^simple_ftxt1)\n",
    "# print(simple_ctxt2)\n",
    "# print(simple_ftxt2)\n",
    "# print(simple_ctxt2^simple_ftxt2)\n",
    "\n",
    "\n",
    "c0 = simple_ctxt1[np.unravel_index(8, shape=(4,4), order='F')]\n",
    "c13 = simple_ctxt1[np.unravel_index(5, shape=(4,4), order='F')]\n",
    "c10 = simple_ctxt1[np.unravel_index(2, shape=(4,4), order='F')]\n",
    "c7 = simple_ctxt1[np.unravel_index(15, shape=(4,4), order='F')]\n",
    "\n",
    "c0_ = simple_ftxt1[np.unravel_index(8, shape=(4,4), order='F')]\n",
    "c13_ = simple_ftxt1[np.unravel_index(5, shape=(4,4), order='F')]\n",
    "c10_ = simple_ftxt1[np.unravel_index(2, shape=(4,4), order='F')]\n",
    "c7_ = simple_ftxt1[np.unravel_index(15, shape=(4,4), order='F')]\n",
    "\n",
    "c01 = simple_ctxt2[np.unravel_index(8, shape=(4,4), order='F')]\n",
    "c131 = simple_ctxt2[np.unravel_index(5, shape=(4,4), order='F')]\n",
    "c101 = simple_ctxt2[np.unravel_index(2, shape=(4,4), order='F')]\n",
    "c71 = simple_ctxt2[np.unravel_index(15, shape=(4,4), order='F')]\n",
    "\n",
    "c0_1 = simple_ftxt2[np.unravel_index(8, shape=(4,4), order='F')]\n",
    "c13_1 = simple_ftxt2[np.unravel_index(5, shape=(4,4), order='F')]\n",
    "c10_1 = simple_ftxt2[np.unravel_index(2, shape=(4,4), order='F')]\n",
    "c7_1 = simple_ftxt2[np.unravel_index(15, shape=(4,4), order='F')]\n",
    "print(\"third four bytes\")\n",
    "full_attack()"
   ]
  },
  {
   "cell_type": "code",
   "execution_count": 28,
   "id": "cdcf8fbf",
   "metadata": {},
   "outputs": [
    {
     "name": "stdout",
     "output_type": "stream",
     "text": [
      "fourth four bytes\n"
     ]
    },
    {
     "name": "stderr",
     "output_type": "stream",
     "text": [
      "100%|██████████| 255/255 [00:14<00:00, 17.18it/s]\n",
      "100%|██████████| 1022/1022 [01:07<00:00, 15.20it/s]\n",
      "100%|██████████| 1288/1288 [01:29<00:00, 14.36it/s]\n"
     ]
    },
    {
     "name": "stdout",
     "output_type": "stream",
     "text": [
      "checking for correct keys\n"
     ]
    },
    {
     "name": "stderr",
     "output_type": "stream",
     "text": [
      "100%|██████████| 1280/1280 [00:00<00:00, 3656.63it/s]"
     ]
    },
    {
     "name": "stdout",
     "output_type": "stream",
     "text": [
      "170 35 50 172\n"
     ]
    },
    {
     "name": "stderr",
     "output_type": "stream",
     "text": [
      "\n"
     ]
    }
   ],
   "source": [
    "#preperation for full attack\n",
    "\n",
    "#for fourth column\n",
    "simple_ctxt1 = all_ctext[0]\n",
    "simple_ftxt1 = all_ftext[0]\n",
    "simple_ctxt2 = all_ctext[8]\n",
    "simple_ftxt2 = all_ftext[8]\n",
    "c0 = simple_ctxt1[np.unravel_index(12, shape=(4,4), order='F')]\n",
    "c13 = simple_ctxt1[np.unravel_index(9, shape=(4,4), order='F')]\n",
    "c10 = simple_ctxt1[np.unravel_index(6, shape=(4,4), order='F')]\n",
    "c7 = simple_ctxt1[np.unravel_index(3, shape=(4,4), order='F')]\n",
    "\n",
    "c0_ = simple_ftxt1[np.unravel_index(12, shape=(4,4), order='F')]\n",
    "c13_ = simple_ftxt1[np.unravel_index(9, shape=(4,4), order='F')]\n",
    "c10_ = simple_ftxt1[np.unravel_index(6, shape=(4,4), order='F')]\n",
    "c7_ = simple_ftxt1[np.unravel_index(3, shape=(4,4), order='F')]\n",
    "\n",
    "c01 = simple_ctxt2[np.unravel_index(12, shape=(4,4), order='F')]\n",
    "c131 = simple_ctxt2[np.unravel_index(9, shape=(4,4), order='F')]\n",
    "c101 = simple_ctxt2[np.unravel_index(6, shape=(4,4), order='F')]\n",
    "c71 = simple_ctxt2[np.unravel_index(3, shape=(4,4), order='F')]\n",
    "\n",
    "c0_1 = simple_ftxt2[np.unravel_index(12, shape=(4,4), order='F')]\n",
    "c13_1 = simple_ftxt2[np.unravel_index(9, shape=(4,4), order='F')]\n",
    "c10_1 = simple_ftxt2[np.unravel_index(6, shape=(4,4), order='F')]\n",
    "c7_1 = simple_ftxt2[np.unravel_index(3, shape=(4,4), order='F')]\n",
    "print(\"fourth four bytes\")\n",
    "full_attack()"
   ]
  },
  {
   "cell_type": "code",
   "execution_count": 249,
   "id": "b557642f",
   "metadata": {},
   "outputs": [
    {
     "name": "stdout",
     "output_type": "stream",
     "text": [
      "['0xa8', '0x8a', '0xa4', '0x2d', '0x35', '0x49', '0x2e', '0xab', '0x5d', '0xd5', '0x37', '0xc6', '0xaa', '0x23', '0x32', '0xac']\n",
      "b'^ul\\xbd&U\\xcc\\xb0\\xb3\\xb5.\\xf8F\\xc5s\\xb9'\n"
     ]
    }
   ],
   "source": [
    "# aeskeyschedule to find th eoreginal key\n",
    "\n",
    "from aeskeyschedule import reverse_key_schedule,key_schedule\n",
    "\n",
    "key_org= [168, 138, 164, 45, 53, 73, 46, 171 ,93, 213, 55, 198, 170, 35, 50, 172]\n",
    "hex_1 = []\n",
    "for i in range(16):\n",
    "    hex_1.append(hex(key_org[i]))\n",
    "\n",
    "print(hex_1)\n",
    "# hex_1 = ['0xa8', '0x8a', '0xa4', '0x2d', '0x35', '0x49', '0x2e', '0xab', '0x5d', '0xd5', '0x37', '0xc6', '0xaa', '0x23', '0x32', '0xac']\n",
    "# Assume key_org is the recovered key\n",
    "key_org = [0xa8, 0x8a, 0xa4, 0x2d, 0x35, 0x49, 0x2e, 0xab, 0x5d, 0xd5, 0x37, 0xc6, 0xaa, 0x23, 0x32, 0xac]\n",
    "\n",
    "# Generate the full key schedule from the recovered key\n",
    "# key_s = key_schedule(\"0xa88aa42d35492eab5dd537c6aa2332ac\")\n",
    "\n",
    "# Rewind the key schedule to get the original key\n",
    "key = reverse_key_schedule(key_org,10)\n",
    "print(key)\n",
    "\n",
    "# key_1 = reverse_key_schedule(b'^ul\\xbd&U\\xcc\\xb0\\xb3\\xb5.\\xf8F\\xc5s\\xb9',10)\n",
    "# print(key_1)"
   ]
  },
  {
   "cell_type": "code",
   "execution_count": 252,
   "id": "fa56efe1",
   "metadata": {},
   "outputs": [
    {
     "name": "stdout",
     "output_type": "stream",
     "text": [
      " 0: 5e756cbd2655ccb0b3b52ef846c573b9\n",
      " 1: f9fa3ae7dfaff6576c1ad8af2adfab16\n",
      " 2: 65987d02ba378b55d62d53fafcf2f8ec\n",
      " 3: e8d9b3b252ee38e784c36b1d783193f1\n",
      " 4: 2705120e75eb2ae9f12841f48919d205\n",
      " 5: e3b079a9965b5340677312b4ee6ac0b1\n",
      " 6: c10ab1815751e2c13022f075de4830c4\n",
      " 7: d30ead9c845f4f5db47dbf286a358fec\n",
      " 8: c57d639e41222cc3f55f93eb9f6a1c07\n",
      " 9: dce1a6459dc38a86689c196df7f6056a\n",
      "10: a88aa42d35492eab5dd537c6aa2332ac\n"
     ]
    }
   ],
   "source": [
    "!aeskeyschedule --round 10 a88aa42d35492eab5dd537c6aa2332ac"
   ]
  },
  {
   "cell_type": "code",
   "execution_count": 32,
   "id": "19884ea5",
   "metadata": {},
   "outputs": [
    {
     "name": "stdout",
     "output_type": "stream",
     "text": [
      "b'^ul\\xbd&U\\xcc\\xb0\\xb3\\xb5.\\xf8F\\xc5s\\xb9'\n",
      "b'*\\x92\\xfcj\\xd8\\x00ke\\x8fI\\x06,(C\\xad\\x99'\n",
      "b'\\xa7\\xe1\\xb1\\nT\\xce\\xb6\\xdb\\xeb!\\xcdtl\\xa7yk'\n"
     ]
    }
   ],
   "source": [
    "# After recovering the full key, decrypt the secret message:\n",
    "# You can use the `pycryptodome` library \n",
    "from Crypto.Cipher import AES\n",
    "from Crypto.Util.Padding import unpad\n",
    "key_1 = bytes.fromhex('5e756cbd2655ccb0b3b52ef846c573b9')\n",
    "print(key_1)\n",
    "secret = bytes.fromhex(\"2a92fc6ad8006b658f49062c2843ad99\")\n",
    "print(secret)\n",
    "cipher = AES.new(key_1, AES.MODE_ECB)  #  ciphering\n",
    "original_msg = cipher.decrypt(secret)\n",
    "print(original_msg)"
   ]
  }
 ],
 "metadata": {
  "kernelspec": {
   "display_name": "Python 3 (ipykernel)",
   "language": "python",
   "name": "python3"
  },
  "language_info": {
   "codemirror_mode": {
    "name": "ipython",
    "version": 3
   },
   "file_extension": ".py",
   "mimetype": "text/x-python",
   "name": "python",
   "nbconvert_exporter": "python",
   "pygments_lexer": "ipython3",
   "version": "3.9.13"
  }
 },
 "nbformat": 4,
 "nbformat_minor": 5
}
