{
 "cells": [
  {
   "cell_type": "code",
   "execution_count": 1,
   "metadata": {},
   "outputs": [],
   "source": [
    "import numpy as np\n",
    "import math"
   ]
  },
  {
   "attachments": {},
   "cell_type": "markdown",
   "metadata": {},
   "source": [
    "Task 1a - Bellcore"
   ]
  },
  {
   "cell_type": "code",
   "execution_count": 2,
   "metadata": {},
   "outputs": [],
   "source": [
    "def convert_hex_int_1024(hex):\n",
    "    hex = (hex.replace(\" \",\"\"))\n",
    "    return int(hex.replace(\"\\n\",\"\"),16)"
   ]
  },
  {
   "cell_type": "code",
   "execution_count": 55,
   "metadata": {},
   "outputs": [],
   "source": [
    "n = convert_hex_int_1024(\n",
    "\"\"\"9B 1F 16 A7 69 6A C9 0F A7 AE 61 5A 1F 71 BD 1A\n",
    "C0 C3 1B 37 A9 F1 43 76 BE C7 FB 70 14 12 F0 E3\n",
    "B7 9C AB 88 F9 06 B3 50 B5 21 57 87 66 C7 8C AC\n",
    "D2 E8 06 32 D0 93 5F 50 CD DC 41 5D C1 B0 46 EB\n",
    "3B 35 56 62 4E B4 12 D0 56 F8 73 E5 A0 56 C2 B8\n",
    "5B 36 4D 03 2B BA A9 27 67 57 B0 58 87 9B 02 CB\n",
    "20 98 D6 3C 61 55 1D 47 53 B1 AE 18 90 D8 FF 79\n",
    "BA 10 F8 23 07 49 2A 77 5A 57 15 AD 60 5B 56 01\"\"\")\n",
    "\n",
    "s = convert_hex_int_1024(\n",
    "\"\"\"14 48 FA 66 0D 3D EE 69 3A 9A E1 0E 3D BE 17 6D\n",
    "D0 AE 96 37 F2 89 60 03 36 7F AB 3F 71 C1 BE 2C\n",
    "8A 14 3D D9 E4 16 7C 9A 07 80 1E 66 6A C2 68 F3\n",
    "76 EE 6B 9A 27 75 23 22 E1 BB D1 6F 8D DA 2B 90\n",
    "05 8A 07 B1 AB 56 45 37 C8 00 95 3B D2 37 71 D8\n",
    "CF D0 8B 96 D3 4B A6 01 3B 10 38 3B 19 D0 F2 63\n",
    "E0 EE BC 7D 09 FD FE A0 03 D7 3D DA 88 5D 25 A3\n",
    "C2 87 0C F8 E5 FF E7 20 1A E7 58 74 F3 83 09 7B\"\"\")\n",
    "\n",
    "\n",
    "s_prime =convert_hex_int_1024(\n",
    "\"\"\"9A BD 38 BD D4 61 B4 F8 F6 A1 82 4B 1B 43 D4 1C \n",
    "18 31 90 71 CA 60 28 86 55 76 C3 2A 25 85 32 BB \n",
    "08 A4 49 F2 93 72 F4 BD B0 16 B5 A1 F5 7A AA 96 \n",
    "BE 66 B1 7E CF 0C D2 BF 89 C7 CA C7 7E 5B 1A 43 \n",
    "46 06 88 C3 ED BF 6D A6 EB CE EA 9B 57 97 A4 FC \n",
    "28 EC 93 EF 18 DA 6E E5 4A 52 38 61 AB ED C8 2C \n",
    "4A 14 8E C5 C8 8D E1 C5 1B 6C 81 3C 8C 13 17 3E \n",
    "85 26 D0 03 5E 2A 37 5C F7 22 2A 18 C2 86 0B 1A\"\"\")\n"
   ]
  },
  {
   "cell_type": "code",
   "execution_count": 49,
   "metadata": {},
   "outputs": [
    {
     "name": "stdout",
     "output_type": "stream",
     "text": [
      "<class 'int'>\n"
     ]
    }
   ],
   "source": [
    "print(type(n))"
   ]
  },
  {
   "cell_type": "code",
   "execution_count": 56,
   "metadata": {},
   "outputs": [
    {
     "name": "stdout",
     "output_type": "stream",
     "text": [
      "q = 32584355429002068820114066592527944384554370845740192748510992462778465495333842065165275579929336855891368856015110459406962333127267387006939636984883\n",
      "\n",
      "p = 3343014699932574834486400062724942446282921089048903672549693237411543833898659799117543113600623364982724751633946245990580023392774069384346467258938278139\n"
     ]
    }
   ],
   "source": [
    "\n",
    "q = math.gcd((s_prime - s), n)\n",
    "p = (n//q)\n",
    "\n",
    "print(\"q =\",q)\n",
    "print()\n",
    "print(\"p =\",p)"
   ]
  },
  {
   "cell_type": "code",
   "execution_count": 57,
   "metadata": {},
   "outputs": [
    {
     "data": {
      "text/plain": [
       "True"
      ]
     },
     "execution_count": 57,
     "metadata": {},
     "output_type": "execute_result"
    }
   ],
   "source": [
    "n == p*q"
   ]
  },
  {
   "attachments": {},
   "cell_type": "markdown",
   "metadata": {},
   "source": [
    "Task 1b - Lenstra"
   ]
  },
  {
   "cell_type": "code",
   "execution_count": 3,
   "metadata": {},
   "outputs": [],
   "source": [
    "n2 = convert_hex_int_1024(\n",
    "\"\"\"C2 D2 BE 8E 72 2A E5 BB D2 3D FA D3 62 A0 8B 4D\n",
    "32 A4 51 15 54 2E 23 E4 9B 35 46 58 33 38 CD 8B \n",
    "8B A4 2E F2 89 B2 E4 47 E9 BF 6E AF 7F 24 D0 25 \n",
    "65 D2 24 AB DD D6 D2 F4 4A 6F 28 16 A4 32 31 96 \n",
    "94 2D F2 0D ED 8F 10 02 45 24 E1 B2 F0 2F 4A D0 \n",
    "C1 CB F7 C7 78 27 0B CD 70 8E BF A0 49 38 4E DE \n",
    "EF 24 C0 84 DA 3C A2 EE 14 6C A5 79 CC 42 AE E7 \n",
    "F6 D4 B0 F5 9E 58 43 A5 19 32 9B EB 5F 97 66 07\"\"\")\n",
    "\n",
    "e = int(0x010001)\n",
    "\n",
    "m = convert_hex_int_1024(\n",
    "\"\"\"1E 8A DB 08 E9 8A 58 01 2C 55 A8 C4 19 74 7B D8\n",
    "D8 DB 40 FA C2 40 DA 92 BF 48 74 F7 9E 9A D7 3B \n",
    "20 A9 34 07 0C AA 60 C7 67 25 41 68 AB EB 37 95\n",
    "56 18 45 8F 6B F9 4B 2D 7B A8 92 1D E7 E8 4F A6 \n",
    "7A F7 E0 D6 FE 9E DD 55 4A BF 44 18 F7 AE E8 D8 \n",
    "29 E6 EC 12 45 CF CB AF 58 96 67 96 3B 53 1B 89 \n",
    "AF 63 87 9C 9A 65 31 76 A0 3B A6 89 BC 5D D4 5D \n",
    "A6 63 91 0A 19 FA 49 6A 6A EF B3 F9 AD FF F6 96\"\"\")\n",
    " \n",
    "s_prime2 = convert_hex_int_1024(\n",
    "\"\"\"25 72 EE 15 57 9D 2E 18 72 4E 98 A1 37 BC 82 CC\n",
    "46 65 4E 04 E0 AF 22 7C 36 D7 B0 C2 9E F4 9D 1B\n",
    "77 57 A3 67 71 2E BC 6C 8D AD 7E 52 66 78 86 0C\n",
    "CD 44 AF FB E0 C3 79 1F 4E 0B A3 E1 86 33 03 E8\n",
    "07 CC 4B D8 A8 95 42 B2 21 58 D6 7D 99 DC 93 05\n",
    "0A CA 58 4D 2D 06 95 0B 6D C6 15 7E 47 CF ED 4D\n",
    "C6 D8 77 E4 7A 0C 7F 1A 09 FE A4 11 5E BF 67 EF\n",
    "DA F4 A8 40 96 89 05 43 66 E5 87 86 E7 4D 2A BD\"\"\")"
   ]
  },
  {
   "cell_type": "code",
   "execution_count": 6,
   "metadata": {},
   "outputs": [
    {
     "name": "stdout",
     "output_type": "stream",
     "text": [
      "q 48037643068688046687732077076593307065662958534176677284921238295999415967349864773150949860055202330159288198990193195891191860803220117368052600123009\n",
      "\n",
      "p= 2847964824927637344993692960955283032782855967321159107889725459612329395728793747044913299774411642193907163140863799636093590460390137004726094068743430279\n"
     ]
    }
   ],
   "source": [
    "\n",
    "q2 = math.gcd(n2, (m - ((pow(s_prime2,e))%n2)))\n",
    "p2 = n2//q2\n",
    "print(\"q =\",q2)\n",
    "print()\n",
    "print(\"p =\",p2)"
   ]
  },
  {
   "cell_type": "code",
   "execution_count": 60,
   "metadata": {},
   "outputs": [
    {
     "data": {
      "text/plain": [
       "True"
      ]
     },
     "execution_count": 60,
     "metadata": {},
     "output_type": "execute_result"
    }
   ],
   "source": [
    "n2 == (q2*p2)\n"
   ]
  }
 ],
 "metadata": {
  "kernelspec": {
   "display_name": "base",
   "language": "python",
   "name": "python3"
  },
  "language_info": {
   "codemirror_mode": {
    "name": "ipython",
    "version": 3
   },
   "file_extension": ".py",
   "mimetype": "text/x-python",
   "name": "python",
   "nbconvert_exporter": "python",
   "pygments_lexer": "ipython3",
   "version": "3.9.13"
  },
  "orig_nbformat": 4
 },
 "nbformat": 4,
 "nbformat_minor": 2
}
